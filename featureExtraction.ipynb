{
 "cells": [
  {
   "cell_type": "code",
   "execution_count": 1,
   "metadata": {
    "collapsed": true
   },
   "outputs": [],
   "source": [
    "# Importing all the important libraries\n",
    "\n",
    "import glob\n",
    "import os\n",
    "import librosa\n",
    "import re\n",
    "import numpy as np\n",
    "librosa.util.MAX_MEM_BLOCK = 262144/4\n",
    "import librosa.display\n",
    "import numpy as np\n",
    "from scipy import misc\n",
    "from scipy import signal"
   ]
  },
  {
   "cell_type": "markdown",
   "metadata": {},
   "source": [
    "# Loading all the sound files"
   ]
  },
  {
   "cell_type": "code",
   "execution_count": 2,
   "metadata": {
    "collapsed": true
   },
   "outputs": [],
   "source": [
    "def load_sounds(dataSetDir, input_sr):\n",
    "    \"\"\"\n",
    "    Returns the sounds in a time-series format\n",
    "    The name of the files should be in the ESC-50-audio dataset format\n",
    "    input_sr is the sampling rate and should be set to default.\n",
    "    Also returns the names and the labels of files\n",
    "    \"\"\"\n",
    "    \n",
    "    sounds = []\n",
    "    names = []\n",
    "    labels = []\n",
    "    \n",
    "    j = 0\n",
    "    datasetSize = len(os.listdir(dataSetDir))\n",
    "    \n",
    "    print(\"Number of audio samples to be converted : \" + str(datasetSize))\n",
    "    \n",
    "    for file in os.listdir(dataSetDir):\n",
    "        \n",
    "        sound,sr = librosa.load(dataSetDir+\"//\"+file,sr = input_sr)\n",
    "        sounds.append(sound)\n",
    "        names.append(file[:-4])\n",
    "\n",
    "        label = re.findall(r'\\d+\\.wav$',file)\n",
    "        label = int((label[0][:-4]))\n",
    "        labels.append(label)\n",
    " \n",
    "        j += 1\n",
    "        if j % 100 == 99:\n",
    "            print(str(j+1) + \" audio samples extracted: Progress = \" + \n",
    "                  str((j+1)/datasetSize * 100) +  \"%\" )\n",
    "        \n",
    "    return sounds,names,labels"
   ]
  },
  {
   "cell_type": "markdown",
   "metadata": {},
   "source": [
    "# Enter the relative dataset Directory and the sampling rate"
   ]
  },
  {
   "cell_type": "code",
   "execution_count": 3,
   "metadata": {
    "collapsed": true
   },
   "outputs": [],
   "source": [
    "dataSetDir = \"ESC-50-master//audio\"\n",
    "sr = 16000"
   ]
  },
  {
   "cell_type": "markdown",
   "metadata": {},
   "source": [
    "# Load the audio signals in a time series format"
   ]
  },
  {
   "cell_type": "code",
   "execution_count": 4,
   "metadata": {
    "scrolled": true
   },
   "outputs": [
    {
     "name": "stdout",
     "output_type": "stream",
     "text": [
      "Number of audio samples to be converted : 2000\n",
      "100 datapoints extracted: Progress = 5.0%\n",
      "200 datapoints extracted: Progress = 10.0%\n",
      "300 datapoints extracted: Progress = 15.0%\n",
      "400 datapoints extracted: Progress = 20.0%\n",
      "500 datapoints extracted: Progress = 25.0%\n",
      "600 datapoints extracted: Progress = 30.0%\n",
      "700 datapoints extracted: Progress = 35.0%\n",
      "800 datapoints extracted: Progress = 40.0%\n",
      "900 datapoints extracted: Progress = 45.0%\n",
      "1000 datapoints extracted: Progress = 50.0%\n",
      "1100 datapoints extracted: Progress = 55.00000000000001%\n",
      "1200 datapoints extracted: Progress = 60.0%\n",
      "1300 datapoints extracted: Progress = 65.0%\n",
      "1400 datapoints extracted: Progress = 70.0%\n",
      "1500 datapoints extracted: Progress = 75.0%\n",
      "1600 datapoints extracted: Progress = 80.0%\n",
      "1700 datapoints extracted: Progress = 85.0%\n",
      "1800 datapoints extracted: Progress = 90.0%\n",
      "1900 datapoints extracted: Progress = 95.0%\n",
      "2000 datapoints extracted: Progress = 100.0%\n"
     ]
    }
   ],
   "source": [
    "soundSet,nameSet, labelSet = load_sounds(dataSetDir, sr)"
   ]
  },
  {
   "cell_type": "code",
   "execution_count": 12,
   "metadata": {
    "collapsed": true
   },
   "outputs": [],
   "source": [
    "def spectogram_feature_extractor(sound, name, sr, frameLength):\n",
    "    \"\"\"\n",
    "    Extracts the spectogram features from the sound file,\n",
    "    converts them into a 256 X 256 image and saves them into a\n",
    "    appropriate folder.\n",
    "    \n",
    "    sound is the audio signal in time series format\n",
    "    name is the name of the original audio file so\n",
    "    the spectogram image can be saved properly.\n",
    "    sr is the sampling rates at which the audio files were sampled.\n",
    "    framelength is the length of each frame considered for obtained the spectogram\n",
    "    \"\"\"\n",
    "    \n",
    "    frameSpan = int(frameLength*sr) \n",
    "    \n",
    "    tot_seg = sr * 5 * 2 // frameSpan\n",
    "    nperseg = 10*sr//tot_seg\n",
    "    \n",
    "    # Obtaining the spectogram\n",
    "    f, t, Sxx = signal.spectrogram(sound, sr, nperseg = nperseg,\n",
    "                                   noverlap = nperseg//2, nfft = max(256,nperseg))\n",
    "    \n",
    "    # Converting the spectogram into a 256 x 256 b/w image\"\n",
    "    SxxNew = misc.imresize(np.flip(Sxx,0),(256,256))\n",
    "    \n",
    "    # Saving the spectogram in the appropriate directory\n",
    "    dirName = str(sr/1e3) + \"KHz_framelength\" + str(frameLength*1e3)\n",
    "    misc.imsave(dirName + \"//\" + name + 'spect'  +'.png',SxxNew)\n",
    "    \n",
    "    return Sxx\n",
    "\n",
    "def dataset_spectogram_feature_extractor(soundSet,nameSet,sr,frameLength):\n",
    "    \"\"\"\n",
    "    Given a list of sound signals and their corresponding names, \n",
    "    extracts the spectograms in an image form and saves them in an \n",
    "    appropriate folder.\n",
    "    \n",
    "    sr is the sampling rates at which the audio files were sampled.\n",
    "    framelength is the length of each frame considered for obtained the spectogram\n",
    "    \"\"\"\n",
    "    featureSet  = []\n",
    "    for i in range(len(soundSet)):\n",
    "        spectogram_feature_extractor(soundSet[i],nameSet[i], sr, frameLength)\n",
    "    print(\"Spectogram image features have been extracted and saved in the folder \" + \n",
    "         str(sr/1e3) + \"KHz_framelength\" + str(frameLength*1e3) + \".\")\n",
    "    return  "
   ]
  },
  {
   "cell_type": "code",
   "execution_count": 13,
   "metadata": {
    "scrolled": true
   },
   "outputs": [
    {
     "name": "stdout",
     "output_type": "stream",
     "text": [
      "Spectogram image features have been extracted and saved in the folder 16.0KHz_framelength20.0.\n"
     ]
    }
   ],
   "source": [
    "# Extraction with frame length 20 ms\n",
    "frameLength = 20 * 1e-3\n",
    "if (os.path.isdir(str(sr/1e3) + \"KHz_framelength\" + str(frameLength*1e3)) != True):\n",
    "    os.mkdir(str(sr/1e3) + \"KHz_framelength\" + str(frameLength*1e3))\n",
    "features = dataset_spectogram_feature_extractor(np.array(soundSet), \n",
    "                                                nameSet, sr, frameLength)"
   ]
  },
  {
   "cell_type": "code",
   "execution_count": 14,
   "metadata": {},
   "outputs": [
    {
     "name": "stdout",
     "output_type": "stream",
     "text": [
      "Spectogram image features have been extracted and saved in the folder 16.0KHz_framelength30.0.\n"
     ]
    }
   ],
   "source": [
    "# Extraction with frame length 30 ms\n",
    "frameLength = 30 * 1e-3\n",
    "if (os.path.isdir(str(sr/1e3) + \"KHz_framelength\" + str(frameLength*1e3)) != True):\n",
    "    os.mkdir(str(sr/1e3) + \"KHz_framelength\" + str(frameLength*1e3))\n",
    "features = dataset_spectogram_feature_extractor(np.array(soundSet), \n",
    "                                                nameSet, sr, frameLength)"
   ]
  },
  {
   "cell_type": "code",
   "execution_count": 15,
   "metadata": {},
   "outputs": [
    {
     "name": "stdout",
     "output_type": "stream",
     "text": [
      "Spectogram image features have been extracted and saved in the folder 16.0KHz_framelength40.0.\n"
     ]
    }
   ],
   "source": [
    "# Extraction with frame length 40 ms\n",
    "frameLength = 40 * 1e-3\n",
    "if (os.path.isdir(str(sr/1e3) + \"KHz_framelength\" + str(frameLength*1e3)) != True):\n",
    "    os.mkdir(str(sr/1e3) + \"KHz_framelength\" + str(frameLength*1e3))\n",
    "features = dataset_spectogram_feature_extractor(np.array(soundSet), \n",
    "                                                nameSet, sr, frameLength)"
   ]
  },
  {
   "cell_type": "code",
   "execution_count": 16,
   "metadata": {},
   "outputs": [
    {
     "name": "stdout",
     "output_type": "stream",
     "text": [
      "Spectogram image features have been extracted and saved in the folder 16.0KHz_framelength50.0.\n"
     ]
    }
   ],
   "source": [
    "# Extraction with frame length 50 ms\n",
    "frameLength = 50 * 1e-3\n",
    "if (os.path.isdir(str(sr/1e3) + \"KHz_framelength\" + str(frameLength*1e3)) != True):\n",
    "    os.mkdir(str(sr/1e3) + \"KHz_framelength\" + str(frameLength*1e3))\n",
    "features = dataset_spectogram_feature_extractor(np.array(soundSet), \n",
    "                                     nameSet, sr, frameLength)"
   ]
  }
 ],
 "metadata": {
  "kernelspec": {
   "display_name": "Python 3",
   "language": "python",
   "name": "python3"
  },
  "language_info": {
   "codemirror_mode": {
    "name": "ipython",
    "version": 3
   },
   "file_extension": ".py",
   "mimetype": "text/x-python",
   "name": "python",
   "nbconvert_exporter": "python",
   "pygments_lexer": "ipython3",
   "version": "3.6.3"
  }
 },
 "nbformat": 4,
 "nbformat_minor": 2
}
