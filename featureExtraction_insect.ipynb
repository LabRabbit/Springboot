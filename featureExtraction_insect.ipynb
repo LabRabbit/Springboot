{
 "cells": [
  {
   "cell_type": "code",
   "execution_count": 1,
   "metadata": {
    "collapsed": true
   },
   "outputs": [],
   "source": [
    "# Importing all the important libraries\n",
    "\n",
    "import glob\n",
    "import os\n",
    "import librosa\n",
    "import re\n",
    "import numpy as np\n",
    "librosa.util.MAX_MEM_BLOCK = 262144/4\n",
    "import librosa.display\n",
    "import numpy as np\n",
    "from scipy import misc\n",
    "from scipy import signal\n",
    "from sklearn.model_selection import train_test_split"
   ]
  },
  {
   "cell_type": "markdown",
   "metadata": {},
   "source": [
    "# Loading all the sound files"
   ]
  },
  {
   "cell_type": "code",
   "execution_count": 2,
   "metadata": {
    "collapsed": true
   },
   "outputs": [],
   "source": [
    "def chunkIt(seq, num):\n",
    "    \"\"\"Extracts chunks from the audio\"\"\"\n",
    "    avg = num\n",
    "    out = []\n",
    "    last = 0.0\n",
    "    while last < len(seq):\n",
    "        if last+avg < len(seq):\n",
    "            out.append(seq[int(last):int(last + avg)])\n",
    "        else:\n",
    "            out.append(seq[int(len(seq) - avg):int(len(seq))])\n",
    "        last += avg\n",
    "    return out\n",
    "\n",
    "def load_sounds(dataSetDir, input_sr, chunk_size=5):\n",
    "    \"\"\"\n",
    "    Returns the sounds in a time-series format\n",
    "    The name of the files should be in the ESC-50-audio dataset format\n",
    "    input_sr is the sampling rate and should be set to default.\n",
    "    Also returns the names and the labels of files\n",
    "    \"\"\"\n",
    "    \n",
    "    sounds = []\n",
    "    names = []\n",
    "    labels = []\n",
    "    \n",
    "    j = 0\n",
    "    datasetSize = len(os.listdir(dataSetDir))\n",
    "    \n",
    "    print(\"Number of audio samples to be converted : \" + str(datasetSize))\n",
    "    \n",
    "    for file in os.listdir(dataSetDir):\n",
    "        \n",
    "        sound,sr = librosa.load(dataSetDir+\"//\"+file,sr = input_sr)\n",
    "        #print(len(sound))\n",
    "        new_sounds = chunkIt(sound, input_sr*chunksize)\n",
    "        for i in range(len(new_sounds)):\n",
    "            sounds.append(new_sounds[i])\n",
    "            names.append(file[:-4]+str(i))\n",
    "\n",
    "            label = re.findall(r'\\d+\\.wav$',file)\n",
    "            label = int((label[0][:-4]))\n",
    "\n",
    "            labels.append(label)\n",
    "\n",
    "            j += 1\n",
    "            if j % 100000 == 99:\n",
    "                print(str(j+1) + \" audio samples extracted: Progress = \" + \n",
    "                      str((j+1)/datasetSize * 100) +  \"%\" )\n",
    "\n",
    "    return sounds,names,labels"
   ]
  },
  {
   "cell_type": "markdown",
   "metadata": {},
   "source": [
    "# Enter the relative dataset Directory and the sampling rate"
   ]
  },
  {
   "cell_type": "code",
   "execution_count": 3,
   "metadata": {
    "collapsed": true
   },
   "outputs": [],
   "source": [
    "dataSetDir = \"InsectSoundDataset//All\"\n",
    "sr = 8000\n",
    "chunksize = 3"
   ]
  },
  {
   "cell_type": "markdown",
   "metadata": {},
   "source": [
    "# Load the audio signals in a time series format"
   ]
  },
  {
   "cell_type": "code",
   "execution_count": 4,
   "metadata": {
    "scrolled": true
   },
   "outputs": [
    {
     "name": "stdout",
     "output_type": "stream",
     "text": [
      "Number of audio samples to be converted : 74\n",
      "100 audio samples extracted: Progress = 135.13513513513513%\n",
      "405\n"
     ]
    }
   ],
   "source": [
    "soundSet,nameSet, labelSet = load_sounds(dataSetDir, sr,chunksize)\n",
    "print(len(soundSet))"
   ]
  },
  {
   "cell_type": "code",
   "execution_count": 5,
   "metadata": {
    "collapsed": true
   },
   "outputs": [],
   "source": [
    "def spectogram_feature_extractor(sound, name, sr, frameLength):\n",
    "    \"\"\"\n",
    "    Extracts the spectogram features from the sound file,\n",
    "    converts them into a 256 X 256 image and saves them into a\n",
    "    appropriate folder.\n",
    "    \n",
    "    sound is the audio signal in time series format\n",
    "    name is the name of the original audio file so\n",
    "    the spectogram image can be saved properly.\n",
    "    sr is the sampling rates at which the audio files were sampled.\n",
    "    framelength is the length of each frame considered for obtained the spectogram\n",
    "    \"\"\"\n",
    "    \n",
    "    frameSpan = int(frameLength*sr) \n",
    "    \n",
    "    tot_seg = sr * 5 * 2 // frameSpan\n",
    "    nperseg = 10*sr//tot_seg\n",
    "    \n",
    "    # Obtaining the spectogram\n",
    "    f, t, Sxx = signal.spectrogram(sound, sr, nperseg = nperseg,\n",
    "                                   noverlap = nperseg//2, nfft = max(256,nperseg))\n",
    "    \n",
    "    # Converting the spectogram into a 256 x 256 b/w image\"\n",
    "    SxxNew = misc.imresize(np.flip(Sxx,0),(256,256))\n",
    "    \n",
    "    # Saving the spectogram in the appropriate directory\n",
    "    dirName = \"ins\" + str(sr/1e3) + \"KHz_framelength\" + str(frameLength*1e3)  + \"chunk\"+ str(chunksize)\n",
    "    misc.imsave(dirName + \"//\" + name + 'spect'  +'.png',SxxNew)\n",
    "    \n",
    "    return Sxx\n",
    "\n",
    "def dataset_spectogram_feature_extractor(soundSet,nameSet,sr,frameLength, chunksize=5):\n",
    "    \"\"\"\n",
    "    Given a list of sound signals and their corresponding names, \n",
    "    extracts the spectograms in an image form and saves them in an \n",
    "    appropriate folder.\n",
    "    \n",
    "    sr is the sampling rates at which the audio files were sampled.\n",
    "    framelength is the length of each frame considered for obtained the spectogram\n",
    "    \"\"\"\n",
    "    featureSet  = []\n",
    "    for i in range(len(soundSet)):\n",
    "        spectogram_feature_extractor(soundSet[i],nameSet[i], sr, frameLength)\n",
    "    print(\"Spectogram image features have been extracted and saved in the folder \" + \n",
    "         \"ins\" +  str(sr/1e3) + \"KHz_framelength\" + str(frameLength*1e3)  + \"chunk\"+ str(chunksize) + \".\")\n",
    "    return  "
   ]
  },
  {
   "cell_type": "code",
   "execution_count": 6,
   "metadata": {
    "scrolled": true
   },
   "outputs": [
    {
     "name": "stdout",
     "output_type": "stream",
     "text": [
      "Spectogram image features have been extracted and saved in the folder ins8.0KHz_framelength20.0chunk5.\n"
     ]
    }
   ],
   "source": [
    "# Extraction with frame length 20 ms\n",
    "frameLength = 20 * 1e-3\n",
    "if (os.path.isdir(\"ins\" + str(sr/1e3) + \"KHz_framelength\" + str(frameLength*1e3)  + \"chunk\"+ str(chunksize))  != True):\n",
    "    os.mkdir(\"ins\" + str(sr/1e3) + \"KHz_framelength\" + str(frameLength*1e3)  + \"chunk\"+ str(chunksize))\n",
    "features = dataset_spectogram_feature_extractor(np.array(soundSet), \n",
    "                                                nameSet, sr, frameLength)"
   ]
  },
  {
   "cell_type": "code",
   "execution_count": 7,
   "metadata": {},
   "outputs": [
    {
     "name": "stdout",
     "output_type": "stream",
     "text": [
      "Spectogram image features have been extracted and saved in the folder ins8.0KHz_framelength30.0chunk5.\n"
     ]
    }
   ],
   "source": [
    "# Extraction with frame length 30 ms\n",
    "frameLength = 30 * 1e-3\n",
    "if (os.path.isdir(\"ins\" + str(sr/1e3) + \"KHz_framelength\" + str(frameLength*1e3)  + \"chunk\"+ str(chunksize)) != True):\n",
    "    os.mkdir(\"ins\" + str(sr/1e3) + \"KHz_framelength\" + str(frameLength*1e3)  + \"chunk\"+ str(chunksize))\n",
    "features = dataset_spectogram_feature_extractor(np.array(soundSet), \n",
    "                                                nameSet, sr, frameLength)"
   ]
  },
  {
   "cell_type": "code",
   "execution_count": 8,
   "metadata": {},
   "outputs": [
    {
     "name": "stdout",
     "output_type": "stream",
     "text": [
      "Spectogram image features have been extracted and saved in the folder ins8.0KHz_framelength40.0chunk5.\n"
     ]
    }
   ],
   "source": [
    "# Extraction with frame length 40 ms\n",
    "frameLength = 40 * 1e-3\n",
    "if (os.path.isdir(\"ins\" + str(sr/1e3) + \"KHz_framelength\" + str(frameLength*1e3)  + \"chunk\"+ str(chunksize)) != True):\n",
    "    os.mkdir(\"ins\" + str(sr/1e3) + \"KHz_framelength\" + str(frameLength*1e3)  + \"chunk\"+ str(chunksize))\n",
    "features = dataset_spectogram_feature_extractor(np.array(soundSet), \n",
    "                                                nameSet, sr, frameLength)"
   ]
  },
  {
   "cell_type": "code",
   "execution_count": 9,
   "metadata": {},
   "outputs": [
    {
     "name": "stdout",
     "output_type": "stream",
     "text": [
      "Spectogram image features have been extracted and saved in the folder ins8.0KHz_framelength50.0chunk5.\n"
     ]
    }
   ],
   "source": [
    "# Extraction with frame length 50 ms\n",
    "frameLength = 50 * 1e-3\n",
    "if (os.path.isdir(\"ins\" + str(sr/1e3) + \"KHz_framelength\" + str(frameLength*1e3)  + \"chunk\"+ str(chunksize)) != True):\n",
    "    os.mkdir(\"ins\" + str(sr/1e3) + \"KHz_framelength\" + str(frameLength*1e3)  + \"chunk\"+ str(chunksize))\n",
    "features = dataset_spectogram_feature_extractor(np.array(soundSet), \n",
    "                                     nameSet, sr, frameLength)"
   ]
  },
  {
   "cell_type": "code",
   "execution_count": null,
   "metadata": {
    "collapsed": true
   },
   "outputs": [],
   "source": []
  },
  {
   "cell_type": "code",
   "execution_count": null,
   "metadata": {
    "collapsed": true
   },
   "outputs": [],
   "source": []
  }
 ],
 "metadata": {
  "kernelspec": {
   "display_name": "Python 3",
   "language": "python",
   "name": "python3"
  },
  "language_info": {
   "codemirror_mode": {
    "name": "ipython",
    "version": 3
   },
   "file_extension": ".py",
   "mimetype": "text/x-python",
   "name": "python",
   "nbconvert_exporter": "python",
   "pygments_lexer": "ipython3",
   "version": "3.6.3"
  }
 },
 "nbformat": 4,
 "nbformat_minor": 2
}
